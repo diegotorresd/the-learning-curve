{
 "cells": [
  {
   "cell_type": "markdown",
   "metadata": {},
   "source": [
    "# Creating a one time pad\n",
    "\n",
    "Encrypting a piece of data by combining it with random dummy data in such a way that the original cannot be reconstructed without access to both the product and the dummy data.\n",
    "\n",
    "A python3 `str` is a sequence of UTF-8 bytes. It can be converted into the sequence using the `encode` method. Likewise, a sequence of UTF-8 bytes can be converted back into a string using the `decode` method.  "
   ]
  },
  {
   "cell_type": "code",
   "execution_count": 1,
   "metadata": {},
   "outputs": [
    {
     "name": "stdout",
     "output_type": "stream",
     "text": [
      "b'hello'\n",
      "farewell\n"
     ]
    }
   ],
   "source": [
    "greeting: str = \"hello\"\n",
    "print(greeting.encode())\n",
    "\n",
    "goodbye: bytes = b'farewell'\n",
    "print(goodbye.decode())"
   ]
  },
  {
   "cell_type": "code",
   "execution_count": 6,
   "metadata": {},
   "outputs": [
    {
     "name": "stdout",
     "output_type": "stream",
     "text": [
      "50570610884527893\n"
     ]
    }
   ],
   "source": [
    "from secrets import token_bytes\n",
    "from typing import Tuple\n",
    "\n",
    "def random_key(length: int) -> int:\n",
    "  # generate random bytes of length `length`\n",
    "  tb: bytes = token_bytes(length)\n",
    "  # store them in an int\n",
    "  return int.from_bytes(tb, \"big\")\n",
    "\n",
    "print(random_key(7))"
   ]
  },
  {
   "cell_type": "markdown",
   "metadata": {},
   "source": [
    "The one time pad uses the properties of XOR:\n",
    "\n",
    "1 ^ 1 = 0\n",
    "1 ^ 0 = 1\n",
    "0 ^ 1 = 1\n",
    "0 ^ 0 = 0\n",
    "\n",
    "And, if A ^ B = C, then C ^ B = A, and C ^ A = B.\n",
    "\n",
    "So, the secret (B) can be used to retrieve the plaintext A."
   ]
  },
  {
   "cell_type": "code",
   "execution_count": null,
   "metadata": {},
   "outputs": [],
   "source": [
    "def encrypt(original: str) -> Tuple[int, int]:\n",
    "  original_bytes = original.encode()\n",
    "  secret: int = random_key(len(original_bytes))\n",
    "  original_key: int = int.from_bytes(original_bytes, \"big\")\n",
    "  encrypted = original_key ^ secret # XOR\n",
    "  return secret, encrypted\n",
    "\n",
    "def decrypt(encrypted: int, secret: int) -> str:\n",
    "  decrypted: int = encrypted ^ secret # XOR\n",
    "  decrypted_bytes: bytes = decrypted.to_bytes()"
   ]
  }
 ],
 "metadata": {
  "kernelspec": {
   "display_name": "Python 3",
   "language": "python",
   "name": "python3"
  },
  "language_info": {
   "codemirror_mode": {
    "name": "ipython",
    "version": 3
   },
   "file_extension": ".py",
   "mimetype": "text/x-python",
   "name": "python",
   "nbconvert_exporter": "python",
   "pygments_lexer": "ipython3",
   "version": "3.9.2"
  }
 },
 "nbformat": 4,
 "nbformat_minor": 2
}
