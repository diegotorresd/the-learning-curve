{
 "cells": [
  {
   "cell_type": "markdown",
   "metadata": {},
   "source": [
    "# Everything is an int\n",
    "\n",
    "Hello there!\n",
    "\n",
    "As I made my way through the <i>Classic Computer Science in Python</i> book, I came across an interesting fact. The author demonstrated how to implement a one-time pad, a simple form of unbreakable cryptography that works by XORing the input with a sequence of random bytes. What intrigued me is that to implement this bitwise operation, it was converting the input string to an integer. How does this work?\n",
    "\n",
    "Integers in python have [unlimited precision][1] This means that they can be used to store any byte sequence.\n",
    "\n",
    "An integer can be constructed from an [integer literal][2], which supports binary, octal, decimal and hexadecimal numbers. Likewise, while the default representation (`repr` function) of an integer is decimal, it can be formatted in other bases using the [`format` function][3]."
   ]
  },
  {
   "cell_type": "code",
   "execution_count": 3,
   "metadata": {},
   "outputs": [
    {
     "name": "stdout",
     "output_type": "stream",
     "text": [
      "56 56 56 56\n",
      "111000 70 56 38\n"
     ]
    }
   ],
   "source": [
    "numbers = [0b111000, 0o70, 56, 0x38]\n",
    "\n",
    "print(\" \".join([format(n) for n in numbers]))\n",
    "\n",
    "print(\" \".join([format(56, f) for f in ['b', 'o', 'd', 'x']]))"
   ]
  },
  {
   "cell_type": "markdown",
   "metadata": {},
   "source": [
    "## Representation\n",
    "\n",
    "The binary representation of an integer can be retrieved using `bin`. This function returns a string and it's basically the same as the `format` function (which is used in f-strings as well). Negative numbers are represented with a minus sign, not two's complement.\n",
    "\n",
    "TODO: how to get the two's complement representation of a negative integer?"
   ]
  },
  {
   "cell_type": "code",
   "execution_count": 4,
   "metadata": {},
   "outputs": [
    {
     "name": "stdout",
     "output_type": "stream",
     "text": [
      "0b100010111\n",
      "-0b100010111\n",
      "100010111\n",
      "-100010111\n"
     ]
    }
   ],
   "source": [
    "n = 279\n",
    "print(bin(n))\n",
    "print(bin(-n))\n",
    "\n",
    "print(f\"{n:b}\")\n",
    "print(f\"{-n:b}\")"
   ]
  },
  {
   "cell_type": "markdown",
   "metadata": {},
   "source": [
    "## Bytes\n",
    "\n",
    "The `bytes` class represents immutable sequences of [single bytes][4], that is, integers x so that `0 <= x < 256`.\n",
    "\n",
    "It can be created from an iterable of integers, from a buffer, or from a bytes literal. \n",
    "\n",
    "A bytes literal is like a string literal, but it only supports ASCII characters. All characters can be escaped as `\\xFF`, but the characters above 127 won't be represented, since the bytes do not have an encoding, ASCII is just a convenient way to refer to bytes (UTF-8 also happens to be backwards compatible)\n",
    "\n",
    "The default representation of a bytes object is the bytes literal. The hexadecimal representation can be obtained with the `hex` method.\n"
   ]
  },
  {
   "cell_type": "code",
   "execution_count": 5,
   "metadata": {},
   "outputs": [
    {
     "name": "stdout",
     "output_type": "stream",
     "text": [
      "b'abcdef'\n",
      "61 62 63 64 65 66\n",
      "b'\\xf0 ~cool~'\n"
     ]
    }
   ],
   "source": [
    "abcdef = bytes(range(97, 103))\n",
    "print(abcdef)\n",
    "print(abcdef.hex(' '))\n",
    "print(b'\\xF0 \\x7ecool\\x7e')"
   ]
  },
  {
   "cell_type": "markdown",
   "metadata": {},
   "source": [
    "## Converting bytes to integers\n",
    "\n",
    "The class method `int.from_bytes` can be used. It requires the byte order (big endian or little endian). If the `signed` attribute is true, it will use two's complement.\n",
    "\n",
    "The `big` byteorder will read the bytes from left to right. The `little` byteorder will read the bytes from right to left."
   ]
  },
  {
   "cell_type": "code",
   "execution_count": 6,
   "metadata": {},
   "outputs": [
    {
     "name": "stdout",
     "output_type": "stream",
     "text": [
      "BIG byteorder:\n",
      "\tByte sequence [01 00] is converted to integer 256 [0b100000000]\n",
      "\n",
      "SMALL byteorder:\n",
      "\tByte sequence [01 00] is converted to integer 1 [0b1]\n",
      "\n",
      "Byte sequence [81] is interpreted as -127 [-0b1111111]\n",
      "or as 129 as unsigned [0b10000001]\n"
     ]
    }
   ],
   "source": [
    "d = b'\\x01\\x00'\n",
    "d_big = int.from_bytes(d, 'big')\n",
    "d_small = int.from_bytes(d, 'little')\n",
    "\n",
    "print(f\"BIG byteorder:\\n\\tByte sequence [{d.hex(' ')}] is converted to integer {d_big} [{bin(d_big)}]\\n\")\n",
    "print(f\"SMALL byteorder:\\n\\tByte sequence [{d.hex(' ')}] is converted to integer {d_small} [{bin(d_small)}]\\n\")\n",
    "\n",
    "one_byte_int = b'\\x81'\n",
    "signed = int.from_bytes(one_byte_int, 'big', signed=True)\n",
    "unsigned = int.from_bytes(one_byte_int, 'big', signed=False)\n",
    "\n",
    "print(f\"Byte sequence [{one_byte_int.hex()}] is interpreted as {signed} [{bin(signed)}]\")\n",
    "print(f\"or as {unsigned} as unsigned [{bin(unsigned)}]\")\n"
   ]
  },
  {
   "cell_type": "markdown",
   "metadata": {},
   "source": [
    "## Converting integers to bytes\n",
    "\n",
    "The `bit_length` function returns the number of _bits_ needed to represent the given integer. It follows that the number of _bytes_ necessary to represent the same integer is `(x.bit_length() + 7) // 8`. The `to_bytes` method takes the length, byteorder and signed parameters. If the number is not representable in the given number of bytes (default is 1), it will give an error."
   ]
  },
  {
   "cell_type": "code",
   "execution_count": 7,
   "metadata": {},
   "outputs": [
    {
     "name": "stdout",
     "output_type": "stream",
     "text": [
      "Error trying to convert number 57005\n",
      "Number 57005 [0b1101111010101101] converted to byte string b'\\xde\\xad' [de ad]\n"
     ]
    }
   ],
   "source": [
    "n = 0xdead\n",
    "\n",
    "try:\n",
    "  n.to_bytes(1, 'big')\n",
    "except OverflowError:\n",
    "  print(f\"Error trying to convert number {n}\")\n",
    "\n",
    "length = n.bit_length()\n",
    "n_bytes = n.to_bytes((length + 7) // 8, 'big')\n",
    "\n",
    "print(f\"Number {n} [{bin(n)}] converted to byte string {n_bytes} [{n_bytes.hex(' ')}]\")"
   ]
  },
  {
   "cell_type": "markdown",
   "metadata": {},
   "source": [
    "## Strings\n",
    "\n",
    "Strings are sequences of Unicode code points. A string can be encoded into a byte sequence or decoded to one. The default encoding is UTF-8. Escape sequences can be used to represent any unicode character."
   ]
  },
  {
   "cell_type": "code",
   "execution_count": 8,
   "metadata": {},
   "outputs": [
    {
     "name": "stdout",
     "output_type": "stream",
     "text": [
      "String \"Python Δ\" is encoded in UTF-8 as b'Python \\xce\\x94' [50 79 74 68 6f 6e 20 ce 94]\n",
      "Byte sequence b'ABCD' [41 42 43 44] is decoded into the UTF-8 string ABCD\n",
      "Byte sequence b'Tsch\\xc3\\xbcss' [54 73 63 68 c3 bc 73 73] is decoded into the UTF-8 string Tschüss\n"
     ]
    }
   ],
   "source": [
    "s = \"Python \\u0394\"\n",
    "encoded = s.encode()\n",
    "print(f\"String \\\"{s}\\\" is encoded in UTF-8 as {encoded} [{encoded.hex(' ')}]\")\n",
    "\n",
    "b = bytes([65, 66, 67, 68])\n",
    "print(f\"Byte sequence {b} [{b.hex(' ')}] is decoded into the UTF-8 string {b.decode()}\")\n",
    "\n",
    "greeting = b'Tsch\\xc3\\xbcss'\n",
    "print(f\"Byte sequence {greeting} [{greeting.hex(' ')}] is decoded into the UTF-8 string {greeting.decode()}\")"
   ]
  },
  {
   "cell_type": "markdown",
   "metadata": {},
   "source": [
    "## Putting it all together\n",
    "\n",
    "Any string can be decoded into a byte sequence, which can be converted to an integer, QED. It can be perfectly reconstructed, provided we know the byte order and the encoding.\n",
    "\n",
    "This is not only an academic fact, it can be used to apply bit operations, which are only defined on integers. Going back to the top, this is the basis of cryptography, compression and other cool and fundamental operations."
   ]
  },
  {
   "cell_type": "code",
   "execution_count": 9,
   "metadata": {},
   "outputs": [
    {
     "name": "stdout",
     "output_type": "stream",
     "text": [
      "The string \"Ars longa, vita brevis\" is represented by the number 24486655688850483561325096422507014050203373183330675\n",
      "The integer 24486655688850483561325096422507014050203373183330675 can be decoded to \"Ars longa, vita brevis\"\n"
     ]
    }
   ],
   "source": [
    "ENCODING = 'utf-8'\n",
    "BYTEORDER = 'big'\n",
    "\n",
    "# Since strings are always encodable as UTF-8, this function cannot fail\n",
    "def string_to_int(input: str) -> int:\n",
    "  b: bytes = input.encode(ENCODING)\n",
    "  output = int.from_bytes(b, BYTEORDER)\n",
    "  return output\n",
    "\n",
    "# this function will fail if the input is not valid UTF-8\n",
    "def int_to_string(input: int) -> str:\n",
    "  length = input.bit_length()\n",
    "  b: bytes = input.to_bytes((length + 7) // 8, BYTEORDER)\n",
    "  output = b.decode(ENCODING)\n",
    "  return output\n",
    "\n",
    "message = \"Ars longa, vita brevis\"\n",
    "message_as_an_int = string_to_int(message)\n",
    "reconstructed_message = int_to_string(message_as_an_int)\n",
    "\n",
    "print(f\"The string \\\"{message}\\\" is represented by the number {message_as_an_int}\")\n",
    "print(f\"The integer {message_as_an_int} can be decoded to \\\"{reconstructed_message}\\\"\")"
   ]
  },
  {
   "cell_type": "markdown",
   "metadata": {},
   "source": [
    "\n",
    "\n",
    "[1]: https://docs.python.org/3/library/stdtypes.html#numeric-types-int-float-complex\n",
    "[2]: https://docs.python.org/3/reference/lexical_analysis.html#integer-literals\n",
    "[3]: https://docs.python.org/3/library/functions.html#format\n",
    "[4]: https://docs.python.org/3/library/stdtypes.html#binary-sequence-types-bytes-bytearray-memoryview "
   ]
  }
 ],
 "metadata": {
  "kernelspec": {
   "display_name": "Python 3",
   "language": "python",
   "name": "python3"
  },
  "language_info": {
   "codemirror_mode": {
    "name": "ipython",
    "version": 3
   },
   "file_extension": ".py",
   "mimetype": "text/x-python",
   "name": "python",
   "nbconvert_exporter": "python",
   "pygments_lexer": "ipython3",
   "version": "3.9.4"
  }
 },
 "nbformat": 4,
 "nbformat_minor": 2
}
